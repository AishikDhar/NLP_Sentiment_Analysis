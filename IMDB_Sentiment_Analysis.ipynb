{
 "cells": [
  {
   "cell_type": "code",
   "execution_count": 2,
   "id": "fa98b491-a54e-4b25-919f-dd0ed77a9a7e",
   "metadata": {},
   "outputs": [
    {
     "name": "stdout",
     "output_type": "stream",
     "text": [
      "Collecting pandas\n",
      "  Downloading pandas-2.2.3-cp312-cp312-win_amd64.whl.metadata (19 kB)\n",
      "Collecting numpy\n",
      "  Downloading numpy-2.2.5-cp312-cp312-win_amd64.whl.metadata (60 kB)\n",
      "Collecting matplotlib\n",
      "  Downloading matplotlib-3.10.3-cp312-cp312-win_amd64.whl.metadata (11 kB)\n",
      "Collecting seaborn\n",
      "  Downloading seaborn-0.13.2-py3-none-any.whl.metadata (5.4 kB)\n",
      "Collecting scikit-learn\n",
      "  Downloading scikit_learn-1.6.1-cp312-cp312-win_amd64.whl.metadata (15 kB)\n",
      "Requirement already satisfied: python-dateutil>=2.8.2 in c:\\users\\asus\\appdata\\roaming\\python\\python312\\site-packages (from pandas) (2.9.0.post0)\n",
      "Collecting pytz>=2020.1 (from pandas)\n",
      "  Downloading pytz-2025.2-py2.py3-none-any.whl.metadata (22 kB)\n",
      "Collecting tzdata>=2022.7 (from pandas)\n",
      "  Downloading tzdata-2025.2-py2.py3-none-any.whl.metadata (1.4 kB)\n",
      "Collecting contourpy>=1.0.1 (from matplotlib)\n",
      "  Downloading contourpy-1.3.2-cp312-cp312-win_amd64.whl.metadata (5.5 kB)\n",
      "Collecting cycler>=0.10 (from matplotlib)\n",
      "  Downloading cycler-0.12.1-py3-none-any.whl.metadata (3.8 kB)\n",
      "Collecting fonttools>=4.22.0 (from matplotlib)\n",
      "  Downloading fonttools-4.58.0-cp312-cp312-win_amd64.whl.metadata (106 kB)\n",
      "Collecting kiwisolver>=1.3.1 (from matplotlib)\n",
      "  Downloading kiwisolver-1.4.8-cp312-cp312-win_amd64.whl.metadata (6.3 kB)\n",
      "Requirement already satisfied: packaging>=20.0 in c:\\users\\asus\\appdata\\roaming\\python\\python312\\site-packages (from matplotlib) (25.0)\n",
      "Collecting pillow>=8 (from matplotlib)\n",
      "  Downloading pillow-11.2.1-cp312-cp312-win_amd64.whl.metadata (9.1 kB)\n",
      "Collecting pyparsing>=2.3.1 (from matplotlib)\n",
      "  Downloading pyparsing-3.2.3-py3-none-any.whl.metadata (5.0 kB)\n",
      "Collecting scipy>=1.6.0 (from scikit-learn)\n",
      "  Downloading scipy-1.15.3-cp312-cp312-win_amd64.whl.metadata (60 kB)\n",
      "Collecting joblib>=1.2.0 (from scikit-learn)\n",
      "  Downloading joblib-1.5.0-py3-none-any.whl.metadata (5.6 kB)\n",
      "Collecting threadpoolctl>=3.1.0 (from scikit-learn)\n",
      "  Downloading threadpoolctl-3.6.0-py3-none-any.whl.metadata (13 kB)\n",
      "Requirement already satisfied: six>=1.5 in c:\\users\\asus\\appdata\\roaming\\python\\python312\\site-packages (from python-dateutil>=2.8.2->pandas) (1.17.0)\n",
      "Downloading pandas-2.2.3-cp312-cp312-win_amd64.whl (11.5 MB)\n",
      "   ---------------------------------------- 0.0/11.5 MB ? eta -:--:--\n",
      "    --------------------------------------- 0.3/11.5 MB ? eta -:--:--\n",
      "   --- ------------------------------------ 1.0/11.5 MB 3.3 MB/s eta 0:00:04\n",
      "   ------ --------------------------------- 1.8/11.5 MB 3.5 MB/s eta 0:00:03\n",
      "   --------- ------------------------------ 2.6/11.5 MB 3.6 MB/s eta 0:00:03\n",
      "   ----------- ---------------------------- 3.4/11.5 MB 3.5 MB/s eta 0:00:03\n",
      "   -------------- ------------------------- 4.2/11.5 MB 3.5 MB/s eta 0:00:03\n",
      "   ----------------- ---------------------- 5.0/11.5 MB 3.6 MB/s eta 0:00:02\n",
      "   -------------------- ------------------- 5.8/11.5 MB 3.6 MB/s eta 0:00:02\n",
      "   ----------------------- ---------------- 6.8/11.5 MB 3.7 MB/s eta 0:00:02\n",
      "   -------------------------- ------------- 7.6/11.5 MB 3.7 MB/s eta 0:00:02\n",
      "   ---------------------------- ----------- 8.1/11.5 MB 3.7 MB/s eta 0:00:01\n",
      "   ------------------------------ --------- 8.9/11.5 MB 3.6 MB/s eta 0:00:01\n",
      "   --------------------------------- ------ 9.7/11.5 MB 3.6 MB/s eta 0:00:01\n",
      "   ------------------------------------- -- 10.7/11.5 MB 3.7 MB/s eta 0:00:01\n",
      "   ---------------------------------------- 11.5/11.5 MB 3.7 MB/s eta 0:00:00\n",
      "Downloading numpy-2.2.5-cp312-cp312-win_amd64.whl (12.6 MB)\n",
      "   ---------------------------------------- 0.0/12.6 MB ? eta -:--:--\n",
      "   -- ------------------------------------- 0.8/12.6 MB 4.8 MB/s eta 0:00:03\n",
      "   ---- ----------------------------------- 1.6/12.6 MB 4.0 MB/s eta 0:00:03\n",
      "   ------- -------------------------------- 2.4/12.6 MB 3.8 MB/s eta 0:00:03\n",
      "   --------- ------------------------------ 3.1/12.6 MB 4.0 MB/s eta 0:00:03\n",
      "   ----------- ---------------------------- 3.7/12.6 MB 3.8 MB/s eta 0:00:03\n",
      "   -------------- ------------------------- 4.7/12.6 MB 3.8 MB/s eta 0:00:03\n",
      "   ----------------- ---------------------- 5.5/12.6 MB 3.8 MB/s eta 0:00:02\n",
      "   ------------------- -------------------- 6.3/12.6 MB 3.7 MB/s eta 0:00:02\n",
      "   ---------------------- ----------------- 7.1/12.6 MB 3.8 MB/s eta 0:00:02\n",
      "   ------------------------- -------------- 8.1/12.6 MB 3.8 MB/s eta 0:00:02\n",
      "   ---------------------------- ----------- 8.9/12.6 MB 3.8 MB/s eta 0:00:01\n",
      "   ------------------------------ --------- 9.7/12.6 MB 3.8 MB/s eta 0:00:01\n",
      "   --------------------------------- ------ 10.5/12.6 MB 3.8 MB/s eta 0:00:01\n",
      "   ----------------------------------- ---- 11.3/12.6 MB 3.8 MB/s eta 0:00:01\n",
      "   -------------------------------------- - 12.1/12.6 MB 3.8 MB/s eta 0:00:01\n",
      "   ---------------------------------------- 12.6/12.6 MB 3.8 MB/s eta 0:00:00\n",
      "Downloading matplotlib-3.10.3-cp312-cp312-win_amd64.whl (8.1 MB)\n",
      "   ---------------------------------------- 0.0/8.1 MB ? eta -:--:--\n",
      "   --- ------------------------------------ 0.8/8.1 MB 5.6 MB/s eta 0:00:02\n",
      "   ------- -------------------------------- 1.6/8.1 MB 4.2 MB/s eta 0:00:02\n",
      "   ----------- ---------------------------- 2.4/8.1 MB 3.9 MB/s eta 0:00:02\n",
      "   ---------------- ----------------------- 3.4/8.1 MB 4.1 MB/s eta 0:00:02\n",
      "   ------------------- -------------------- 3.9/8.1 MB 4.0 MB/s eta 0:00:02\n",
      "   ------------------------ --------------- 5.0/8.1 MB 4.0 MB/s eta 0:00:01\n",
      "   ----------------------------- ---------- 6.0/8.1 MB 4.1 MB/s eta 0:00:01\n",
      "   -------------------------------- ------- 6.6/8.1 MB 3.9 MB/s eta 0:00:01\n",
      "   ------------------------------------ --- 7.3/8.1 MB 3.9 MB/s eta 0:00:01\n",
      "   ---------------------------------------- 8.1/8.1 MB 3.8 MB/s eta 0:00:00\n",
      "Downloading seaborn-0.13.2-py3-none-any.whl (294 kB)\n",
      "Downloading scikit_learn-1.6.1-cp312-cp312-win_amd64.whl (11.1 MB)\n",
      "   ---------------------------------------- 0.0/11.1 MB ? eta -:--:--\n",
      "   -- ------------------------------------- 0.8/11.1 MB 4.2 MB/s eta 0:00:03\n",
      "   ----- ---------------------------------- 1.6/11.1 MB 3.6 MB/s eta 0:00:03\n",
      "   ------- -------------------------------- 2.1/11.1 MB 3.4 MB/s eta 0:00:03\n",
      "   ---------- ----------------------------- 2.9/11.1 MB 3.6 MB/s eta 0:00:03\n",
      "   -------------- ------------------------- 3.9/11.1 MB 3.8 MB/s eta 0:00:02\n",
      "   ---------------- ----------------------- 4.7/11.1 MB 3.7 MB/s eta 0:00:02\n",
      "   ------------------- -------------------- 5.5/11.1 MB 3.6 MB/s eta 0:00:02\n",
      "   --------------------- ------------------ 6.0/11.1 MB 3.6 MB/s eta 0:00:02\n",
      "   ------------------------ --------------- 6.8/11.1 MB 3.6 MB/s eta 0:00:02\n",
      "   --------------------------- ------------ 7.6/11.1 MB 3.6 MB/s eta 0:00:01\n",
      "   ------------------------------ --------- 8.4/11.1 MB 3.6 MB/s eta 0:00:01\n",
      "   --------------------------------- ------ 9.2/11.1 MB 3.5 MB/s eta 0:00:01\n",
      "   ----------------------------------- ---- 10.0/11.1 MB 3.5 MB/s eta 0:00:01\n",
      "   ------------------------------------- -- 10.5/11.1 MB 3.5 MB/s eta 0:00:01\n",
      "   ---------------------------------------- 11.1/11.1 MB 3.4 MB/s eta 0:00:00\n",
      "Downloading contourpy-1.3.2-cp312-cp312-win_amd64.whl (223 kB)\n",
      "Downloading cycler-0.12.1-py3-none-any.whl (8.3 kB)\n",
      "Downloading fonttools-4.58.0-cp312-cp312-win_amd64.whl (2.2 MB)\n",
      "   ---------------------------------------- 0.0/2.2 MB ? eta -:--:--\n",
      "   --------- ------------------------------ 0.5/2.2 MB 3.4 MB/s eta 0:00:01\n",
      "   ----------------------- ---------------- 1.3/2.2 MB 3.0 MB/s eta 0:00:01\n",
      "   --------------------------------- ------ 1.8/2.2 MB 3.0 MB/s eta 0:00:01\n",
      "   ---------------------------------------- 2.2/2.2 MB 2.9 MB/s eta 0:00:00\n",
      "Downloading joblib-1.5.0-py3-none-any.whl (307 kB)\n",
      "Downloading kiwisolver-1.4.8-cp312-cp312-win_amd64.whl (71 kB)\n",
      "Downloading pillow-11.2.1-cp312-cp312-win_amd64.whl (2.7 MB)\n",
      "   ---------------------------------------- 0.0/2.7 MB ? eta -:--:--\n",
      "   ------- -------------------------------- 0.5/2.7 MB 2.8 MB/s eta 0:00:01\n",
      "   ------------------- -------------------- 1.3/2.7 MB 3.4 MB/s eta 0:00:01\n",
      "   ------------------------------- -------- 2.1/2.7 MB 3.4 MB/s eta 0:00:01\n",
      "   ---------------------------------------- 2.7/2.7 MB 3.4 MB/s eta 0:00:00\n",
      "Downloading pyparsing-3.2.3-py3-none-any.whl (111 kB)\n",
      "Downloading pytz-2025.2-py2.py3-none-any.whl (509 kB)\n",
      "Downloading scipy-1.15.3-cp312-cp312-win_amd64.whl (41.0 MB)\n",
      "   ---------------------------------------- 0.0/41.0 MB ? eta -:--:--\n",
      "    --------------------------------------- 0.5/41.0 MB 4.2 MB/s eta 0:00:10\n",
      "   - -------------------------------------- 1.3/41.0 MB 3.4 MB/s eta 0:00:12\n",
      "   -- ------------------------------------- 2.1/41.0 MB 3.5 MB/s eta 0:00:12\n",
      "   -- ------------------------------------- 2.9/41.0 MB 3.4 MB/s eta 0:00:12\n",
      "   --- ------------------------------------ 3.7/41.0 MB 3.5 MB/s eta 0:00:11\n",
      "   ---- ----------------------------------- 4.7/41.0 MB 3.6 MB/s eta 0:00:11\n",
      "   ----- ---------------------------------- 5.2/41.0 MB 3.7 MB/s eta 0:00:10\n",
      "   ----- ---------------------------------- 6.0/41.0 MB 3.5 MB/s eta 0:00:10\n",
      "   ------ --------------------------------- 6.8/41.0 MB 3.6 MB/s eta 0:00:10\n",
      "   ------- -------------------------------- 7.6/41.0 MB 3.6 MB/s eta 0:00:10\n",
      "   -------- ------------------------------- 8.4/41.0 MB 3.6 MB/s eta 0:00:10\n",
      "   -------- ------------------------------- 9.2/41.0 MB 3.6 MB/s eta 0:00:09\n",
      "   --------- ------------------------------ 10.2/41.0 MB 3.7 MB/s eta 0:00:09\n",
      "   ---------- ----------------------------- 11.0/41.0 MB 3.7 MB/s eta 0:00:09\n",
      "   ----------- ---------------------------- 11.8/41.0 MB 3.7 MB/s eta 0:00:08\n",
      "   ------------ --------------------------- 12.8/41.0 MB 3.8 MB/s eta 0:00:08\n",
      "   ------------- -------------------------- 13.6/41.0 MB 3.8 MB/s eta 0:00:08\n",
      "   -------------- ------------------------- 14.7/41.0 MB 3.9 MB/s eta 0:00:07\n",
      "   --------------- ------------------------ 15.7/41.0 MB 3.9 MB/s eta 0:00:07\n",
      "   ---------------- ----------------------- 16.5/41.0 MB 3.9 MB/s eta 0:00:07\n",
      "   ----------------- ---------------------- 17.6/41.0 MB 3.9 MB/s eta 0:00:07\n",
      "   ------------------ --------------------- 18.6/41.0 MB 3.9 MB/s eta 0:00:06\n",
      "   ------------------ --------------------- 19.4/41.0 MB 3.9 MB/s eta 0:00:06\n",
      "   ------------------- -------------------- 20.2/41.0 MB 3.9 MB/s eta 0:00:06\n",
      "   -------------------- ------------------- 21.2/41.0 MB 3.9 MB/s eta 0:00:06\n",
      "   --------------------- ------------------ 22.0/41.0 MB 3.9 MB/s eta 0:00:05\n",
      "   ---------------------- ----------------- 22.8/41.0 MB 3.9 MB/s eta 0:00:05\n",
      "   ----------------------- ---------------- 23.6/41.0 MB 3.9 MB/s eta 0:00:05\n",
      "   ----------------------- ---------------- 24.4/41.0 MB 3.9 MB/s eta 0:00:05\n",
      "   ------------------------ --------------- 25.2/41.0 MB 3.9 MB/s eta 0:00:05\n",
      "   ------------------------- -------------- 26.2/41.0 MB 3.9 MB/s eta 0:00:04\n",
      "   -------------------------- ------------- 27.0/41.0 MB 3.9 MB/s eta 0:00:04\n",
      "   --------------------------- ------------ 27.8/41.0 MB 3.9 MB/s eta 0:00:04\n",
      "   ---------------------------- ----------- 28.8/41.0 MB 3.9 MB/s eta 0:00:04\n",
      "   ---------------------------- ----------- 29.6/41.0 MB 3.9 MB/s eta 0:00:03\n",
      "   ----------------------------- ---------- 30.7/41.0 MB 3.9 MB/s eta 0:00:03\n",
      "   ------------------------------ --------- 31.5/41.0 MB 3.9 MB/s eta 0:00:03\n",
      "   ------------------------------ --------- 31.5/41.0 MB 3.9 MB/s eta 0:00:03\n",
      "   ------------------------------- -------- 32.8/41.0 MB 3.9 MB/s eta 0:00:03\n",
      "   -------------------------------- ------- 33.6/41.0 MB 3.9 MB/s eta 0:00:02\n",
      "   --------------------------------- ------ 34.6/41.0 MB 3.9 MB/s eta 0:00:02\n",
      "   ---------------------------------- ----- 35.7/41.0 MB 3.9 MB/s eta 0:00:02\n",
      "   ---------------------------------- ----- 35.7/41.0 MB 3.9 MB/s eta 0:00:02\n",
      "   ----------------------------------- ---- 36.4/41.0 MB 3.8 MB/s eta 0:00:02\n",
      "   ------------------------------------ --- 37.2/41.0 MB 3.8 MB/s eta 0:00:01\n",
      "   ------------------------------------- -- 38.0/41.0 MB 3.8 MB/s eta 0:00:01\n",
      "   ------------------------------------- -- 38.3/41.0 MB 3.8 MB/s eta 0:00:01\n",
      "   ------------------------------------- -- 38.8/41.0 MB 3.7 MB/s eta 0:00:01\n",
      "   -------------------------------------- - 39.6/41.0 MB 3.7 MB/s eta 0:00:01\n",
      "   ---------------------------------------  40.1/41.0 MB 3.7 MB/s eta 0:00:01\n",
      "   ---------------------------------------  40.6/41.0 MB 3.7 MB/s eta 0:00:01\n",
      "   ---------------------------------------- 41.0/41.0 MB 3.6 MB/s eta 0:00:00\n",
      "Downloading threadpoolctl-3.6.0-py3-none-any.whl (18 kB)\n",
      "Downloading tzdata-2025.2-py2.py3-none-any.whl (347 kB)\n",
      "Installing collected packages: pytz, tzdata, threadpoolctl, pyparsing, pillow, numpy, kiwisolver, joblib, fonttools, cycler, scipy, pandas, contourpy, scikit-learn, matplotlib, seaborn\n",
      "Successfully installed contourpy-1.3.2 cycler-0.12.1 fonttools-4.58.0 joblib-1.5.0 kiwisolver-1.4.8 matplotlib-3.10.3 numpy-2.2.5 pandas-2.2.3 pillow-11.2.1 pyparsing-3.2.3 pytz-2025.2 scikit-learn-1.6.1 scipy-1.15.3 seaborn-0.13.2 threadpoolctl-3.6.0 tzdata-2025.2\n"
     ]
    },
    {
     "name": "stderr",
     "output_type": "stream",
     "text": [
      "\n",
      "[notice] A new release of pip is available: 25.0.1 -> 25.1.1\n",
      "[notice] To update, run: python.exe -m pip install --upgrade pip\n"
     ]
    }
   ],
   "source": [
    "!pip install pandas numpy matplotlib seaborn scikit-learn\n"
   ]
  },
  {
   "cell_type": "code",
   "execution_count": 3,
   "id": "390b9002-189c-4c4c-b9b8-be45d7095c95",
   "metadata": {},
   "outputs": [],
   "source": [
    "import pandas as pd\n",
    "import numpy as np\n",
    "import matplotlib.pyplot as plt\n",
    "import seaborn as sns\n",
    "from sklearn.model_selection import train_test_split\n",
    "from sklearn.feature_extraction.text import CountVectorizer, TfidfVectorizer\n",
    "from sklearn.linear_model import LogisticRegression\n",
    "from sklearn.metrics import accuracy_score, confusion_matrix, classification_report\n"
   ]
  },
  {
   "cell_type": "code",
   "execution_count": 7,
   "id": "ff628789-4af3-417a-89e9-05c028d469af",
   "metadata": {},
   "outputs": [],
   "source": [
    "#Loading the dataset\n",
    "df = pd.read_csv(\"C:/Users/ASUS/Projects/Datasets/NLP_Sentiment_Analysis/archive (4)/IMDB Dataset.csv\")\n"
   ]
  },
  {
   "cell_type": "code",
   "execution_count": 8,
   "id": "63bcb196-e307-4cab-92d4-b0cb15c45c16",
   "metadata": {},
   "outputs": [
    {
     "data": {
      "text/html": [
       "<div>\n",
       "<style scoped>\n",
       "    .dataframe tbody tr th:only-of-type {\n",
       "        vertical-align: middle;\n",
       "    }\n",
       "\n",
       "    .dataframe tbody tr th {\n",
       "        vertical-align: top;\n",
       "    }\n",
       "\n",
       "    .dataframe thead th {\n",
       "        text-align: right;\n",
       "    }\n",
       "</style>\n",
       "<table border=\"1\" class=\"dataframe\">\n",
       "  <thead>\n",
       "    <tr style=\"text-align: right;\">\n",
       "      <th></th>\n",
       "      <th>review</th>\n",
       "      <th>sentiment</th>\n",
       "    </tr>\n",
       "  </thead>\n",
       "  <tbody>\n",
       "    <tr>\n",
       "      <th>0</th>\n",
       "      <td>One of the other reviewers has mentioned that ...</td>\n",
       "      <td>positive</td>\n",
       "    </tr>\n",
       "    <tr>\n",
       "      <th>1</th>\n",
       "      <td>A wonderful little production. &lt;br /&gt;&lt;br /&gt;The...</td>\n",
       "      <td>positive</td>\n",
       "    </tr>\n",
       "    <tr>\n",
       "      <th>2</th>\n",
       "      <td>I thought this was a wonderful way to spend ti...</td>\n",
       "      <td>positive</td>\n",
       "    </tr>\n",
       "    <tr>\n",
       "      <th>3</th>\n",
       "      <td>Basically there's a family where a little boy ...</td>\n",
       "      <td>negative</td>\n",
       "    </tr>\n",
       "    <tr>\n",
       "      <th>4</th>\n",
       "      <td>Petter Mattei's \"Love in the Time of Money\" is...</td>\n",
       "      <td>positive</td>\n",
       "    </tr>\n",
       "  </tbody>\n",
       "</table>\n",
       "</div>"
      ],
      "text/plain": [
       "                                              review sentiment\n",
       "0  One of the other reviewers has mentioned that ...  positive\n",
       "1  A wonderful little production. <br /><br />The...  positive\n",
       "2  I thought this was a wonderful way to spend ti...  positive\n",
       "3  Basically there's a family where a little boy ...  negative\n",
       "4  Petter Mattei's \"Love in the Time of Money\" is...  positive"
      ]
     },
     "execution_count": 8,
     "metadata": {},
     "output_type": "execute_result"
    }
   ],
   "source": [
    "#Checking the first five elements\n",
    "df.head()\n",
    "\n"
   ]
  },
  {
   "cell_type": "code",
   "execution_count": 10,
   "id": "dd1bd417-70e2-4006-9136-e7fa3924d7b1",
   "metadata": {},
   "outputs": [
    {
     "data": {
      "text/plain": [
       "review       0\n",
       "sentiment    0\n",
       "dtype: int64"
      ]
     },
     "execution_count": 10,
     "metadata": {},
     "output_type": "execute_result"
    }
   ],
   "source": [
    "#Checking for any null value in the dataset\n",
    "df.isnull().sum()"
   ]
  },
  {
   "cell_type": "code",
   "execution_count": 11,
   "id": "c4885580-fecc-4c4e-8357-d3fc675cd74a",
   "metadata": {},
   "outputs": [
    {
     "name": "stdout",
     "output_type": "stream",
     "text": [
      "<class 'pandas.core.frame.DataFrame'>\n",
      "RangeIndex: 50000 entries, 0 to 49999\n",
      "Data columns (total 2 columns):\n",
      " #   Column     Non-Null Count  Dtype \n",
      "---  ------     --------------  ----- \n",
      " 0   review     50000 non-null  object\n",
      " 1   sentiment  50000 non-null  object\n",
      "dtypes: object(2)\n",
      "memory usage: 781.4+ KB\n"
     ]
    },
    {
     "data": {
      "image/png": "[encoded data removed]",
      "text/plain": [
       "<Figure size 640x480 with 1 Axes>"
      ]
     },
     "metadata": {},
     "output_type": "display_data"
    }
   ],
   "source": [
    "df.info()\n",
    "df['sentiment'].value_counts().plot(kind='bar')\n",
    "plt.show()\n"
   ]
  },
  {
   "cell_type": "code",
   "execution_count": 12,
   "id": "d2046281-7060-4a17-b759-36fed3049e3e",
   "metadata": {},
   "outputs": [],
   "source": [
    "#Coverting the text to vectors\n",
    "tfidf = TfidfVectorizer(max_features=5000)"
   ]
  },
  {
   "cell_type": "code",
   "execution_count": 13,
   "id": "04628199-2cc3-46a7-bd88-6584a7e4aa87",
   "metadata": {},
   "outputs": [],
   "source": [
    "X = tfidf.fit_transform(df['review']).toarray()"
   ]
  },
  {
   "cell_type": "code",
   "execution_count": 14,
   "id": "b6115268-78e5-4a3d-920e-3ee3ec538e1d",
   "metadata": {},
   "outputs": [],
   "source": [
    "y = df['sentiment'].map({'positive':1, 'negative':0})"
   ]
  }
 ],
 "metadata": {
  "kernelspec": {
   "display_name": "Python 3 (ipykernel)",
   "language": "python",
   "name": "python3"
  },
  "language_info": {
   "codemirror_mode": {
    "name": "ipython",
    "version": 3
   },
   "file_extension": ".py",
   "mimetype": "text/x-python",
   "name": "python",
   "nbconvert_exporter": "python",
   "pygments_lexer": "ipython3",
   "version": "3.12.10"
  }
 },
 "nbformat": 4,
 "nbformat_minor": 5
}
